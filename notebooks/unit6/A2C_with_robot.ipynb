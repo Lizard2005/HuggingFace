{
  "cells": [
    {
      "cell_type": "markdown",
      "metadata": {
        "colab_type": "text",
        "id": "view-in-github"
      },
      "source": [
        "<a href=\"https://colab.research.google.com/github/Lizard2005/HuggingFace/blob/main/notebooks/unit6/A2C_with_robot.ipynb\" target=\"_parent\"><img src=\"https://colab.research.google.com/assets/colab-badge.svg\" alt=\"Open In Colab\"/></a>"
      ]
    },
    {
      "cell_type": "markdown",
      "metadata": {
        "id": "-PTReiOw-RAN"
      },
      "source": [
        "# Unit 6: Advantage Actor Critic (A2C) using Robotics Simulations with Panda-Gym 🤖\n",
        "\n",
        "<img src=\"https://huggingface.co/datasets/huggingface-deep-rl-course/course-images/resolve/main/en/unit8/thumbnail.png\"  alt=\"Thumbnail\"/>\n",
        "\n",
        "In this notebook, you'll learn to use A2C with [Panda-Gym](https://github.com/qgallouedec/panda-gym). You're going **to train a robotic arm** (Franka Emika Panda robot) to perform a task:\n",
        "\n",
        "- `Reach`: the robot must place its end-effector at a target position.\n",
        "\n",
        "After that, you'll be able **to train in other robotics tasks**.\n"
      ]
    },
    {
      "cell_type": "markdown",
      "metadata": {
        "id": "QInFitfWno1Q"
      },
      "source": [
        "### 🎮 Environments:\n",
        "\n",
        "- [Panda-Gym](https://github.com/qgallouedec/panda-gym)\n",
        "\n",
        "###📚 RL-Library:\n",
        "\n",
        "- [Stable-Baselines3](https://stable-baselines3.readthedocs.io/)"
      ]
    },
    {
      "cell_type": "markdown",
      "metadata": {
        "id": "2CcdX4g3oFlp"
      },
      "source": [
        "We're constantly trying to improve our tutorials, so **if you find some issues in this notebook**, please [open an issue on the GitHub Repo](https://github.com/huggingface/deep-rl-class/issues)."
      ]
    },
    {
      "cell_type": "markdown",
      "metadata": {
        "id": "MoubJX20oKaQ"
      },
      "source": [
        "## Objectives of this notebook 🏆\n",
        "\n",
        "At the end of the notebook, you will:\n",
        "\n",
        "- Be able to use **Panda-Gym**, the environment library.\n",
        "- Be able to **train robots using A2C**.\n",
        "- Understand why **we need to normalize the input**.\n",
        "- Be able to **push your trained agent and the code to the Hub** with a nice video replay and an evaluation score 🔥.\n",
        "\n",
        "\n"
      ]
    },
    {
      "cell_type": "markdown",
      "metadata": {
        "id": "DoUNkTExoUED"
      },
      "source": [
        "## This notebook is from the Deep Reinforcement Learning Course\n",
        "<img src=\"https://huggingface.co/datasets/huggingface-deep-rl-course/course-images/resolve/main/en/notebooks/deep-rl-course-illustration.jpg\" alt=\"Deep RL Course illustration\"/>\n",
        "\n",
        "In this free course, you will:\n",
        "\n",
        "- 📖 Study Deep Reinforcement Learning in **theory and practice**.\n",
        "- 🧑‍💻 Learn to **use famous Deep RL libraries** such as Stable Baselines3, RL Baselines3 Zoo, CleanRL and Sample Factory 2.0.\n",
        "- 🤖 Train **agents in unique environments**\n",
        "\n",
        "And more check 📚 the syllabus 👉 https://simoninithomas.github.io/deep-rl-course\n",
        "\n",
        "Don’t forget to **<a href=\"http://eepurl.com/ic5ZUD\">sign up to the course</a>** (we are collecting your email to be able to **send you the links when each Unit is published and give you information about the challenges and updates).**\n",
        "\n",
        "\n",
        "The best way to keep in touch is to join our discord server to exchange with the community and with us 👉🏻 https://discord.gg/ydHrjt3WP5"
      ]
    },
    {
      "cell_type": "markdown",
      "metadata": {
        "id": "BTuQAUAPoa5E"
      },
      "source": [
        "## Prerequisites 🏗️\n",
        "Before diving into the notebook, you need to:\n",
        "\n",
        "🔲 📚 Study [Actor-Critic methods by reading Unit 6](https://huggingface.co/deep-rl-course/unit6/introduction) 🤗  "
      ]
    },
    {
      "cell_type": "markdown",
      "metadata": {
        "id": "iajHvVDWoo01"
      },
      "source": [
        "# Let's train our first robots 🤖"
      ]
    },
    {
      "cell_type": "markdown",
      "metadata": {
        "id": "zbOENTE2os_D"
      },
      "source": [
        "To validate this hands-on for the [certification process](https://huggingface.co/deep-rl-course/en/unit0/introduction#certification-process),  you need to push your trained model to the Hub and get the following results:\n",
        "\n",
        "- `PandaReachDense-v3` get a result of >= -3.5.\n",
        "\n",
        "To find your result, go to the [leaderboard](https://huggingface.co/spaces/huggingface-projects/Deep-Reinforcement-Learning-Leaderboard) and find your model, **the result = mean_reward - std of reward**\n",
        "\n",
        "For more information about the certification process, check this section 👉 https://huggingface.co/deep-rl-course/en/unit0/introduction#certification-process"
      ]
    },
    {
      "cell_type": "markdown",
      "metadata": {
        "id": "PU4FVzaoM6fC"
      },
      "source": [
        "## Set the GPU 💪\n",
        "- To **accelerate the agent's training, we'll use a GPU**. To do that, go to `Runtime > Change Runtime type`\n",
        "\n",
        "<img src=\"https://huggingface.co/datasets/huggingface-deep-rl-course/course-images/resolve/main/en/notebooks/gpu-step1.jpg\" alt=\"GPU Step 1\">"
      ]
    },
    {
      "cell_type": "markdown",
      "metadata": {
        "id": "KV0NyFdQM9ZG"
      },
      "source": [
        "- `Hardware Accelerator > GPU`\n",
        "\n",
        "<img src=\"https://huggingface.co/datasets/huggingface-deep-rl-course/course-images/resolve/main/en/notebooks/gpu-step2.jpg\" alt=\"GPU Step 2\">"
      ]
    },
    {
      "cell_type": "markdown",
      "metadata": {
        "id": "bTpYcVZVMzUI"
      },
      "source": [
        "## Create a virtual display 🔽\n",
        "\n",
        "During the notebook, we'll need to generate a replay video. To do so, with colab, **we need to have a virtual screen to be able to render the environment** (and thus record the frames).\n",
        "\n",
        "Hence the following cell will install the librairies and create and run a virtual screen 🖥"
      ]
    },
    {
      "cell_type": "code",
      "execution_count": 1,
      "metadata": {
        "id": "jV6wjQ7Be7p5"
      },
      "outputs": [],
      "source": [
        "%%capture\n",
        "!apt install python-opengl\n",
        "!apt install ffmpeg\n",
        "!apt install xvfb\n",
        "!pip3 install pyvirtualdisplay"
      ]
    },
    {
      "cell_type": "code",
      "execution_count": null,
      "metadata": {
        "id": "ww5PQH1gNLI4"
      },
      "outputs": [],
      "source": [
        "# Virtual display\n",
        "from pyvirtualdisplay import Display\n",
        "\n",
        "virtual_display = Display(visible=0, size=(1400, 900))\n",
        "virtual_display.start()"
      ]
    },
    {
      "cell_type": "markdown",
      "metadata": {
        "id": "e1obkbdJ_KnG"
      },
      "source": [
        "### Install dependencies 🔽\n",
        "\n",
        "The first step is to install the dependencies, we’ll install multiple ones:\n",
        "- `gymnasium`\n",
        "- `panda-gym`: Contains the robotics arm environments.\n",
        "- `stable-baselines3`: The SB3 deep reinforcement learning library.\n",
        "- `huggingface_sb3`: Additional code for Stable-baselines3 to load and upload models from the Hugging Face 🤗 Hub.\n",
        "- `huggingface_hub`: Library allowing anyone to work with the Hub repositories.\n",
        "\n",
        "⏲ The installation can **take 10 minutes**."
      ]
    },
    {
      "cell_type": "code",
      "execution_count": 3,
      "metadata": {
        "id": "TgZUkjKYSgvn"
      },
      "outputs": [
        {
          "name": "stdout",
          "output_type": "stream",
          "text": [
            "Defaulting to user installation because normal site-packages is not writeable\n",
            "Requirement already satisfied: stable-baselines3[extra] in /home/dmin/.local/lib/python3.11/site-packages (2.7.0)\n",
            "Requirement already satisfied: gymnasium<1.3.0,>=0.29.1 in /home/dmin/.local/lib/python3.11/site-packages (from stable-baselines3[extra]) (1.2.0)\n",
            "Requirement already satisfied: numpy<3.0,>=1.20 in /home/dmin/.local/lib/python3.11/site-packages (from stable-baselines3[extra]) (2.2.6)\n",
            "Requirement already satisfied: torch<3.0,>=2.3 in /home/dmin/.local/lib/python3.11/site-packages (from stable-baselines3[extra]) (2.8.0)\n",
            "Requirement already satisfied: cloudpickle in /home/dmin/.local/lib/python3.11/site-packages (from stable-baselines3[extra]) (3.1.1)\n",
            "Requirement already satisfied: pandas in /home/dmin/.local/lib/python3.11/site-packages (from stable-baselines3[extra]) (2.3.1)\n",
            "Requirement already satisfied: matplotlib in /home/dmin/.local/lib/python3.11/site-packages (from stable-baselines3[extra]) (3.10.5)\n",
            "Requirement already satisfied: opencv-python in /home/dmin/.local/lib/python3.11/site-packages (from stable-baselines3[extra]) (4.12.0.88)\n",
            "Requirement already satisfied: pygame in /home/dmin/.local/lib/python3.11/site-packages (from stable-baselines3[extra]) (2.6.1)\n",
            "Requirement already satisfied: tensorboard>=2.9.1 in /home/dmin/.local/lib/python3.11/site-packages (from stable-baselines3[extra]) (2.20.0)\n",
            "Requirement already satisfied: psutil in /home/dmin/.local/lib/python3.11/site-packages (from stable-baselines3[extra]) (7.0.0)\n",
            "Requirement already satisfied: tqdm in /home/dmin/.local/lib/python3.11/site-packages (from stable-baselines3[extra]) (4.67.1)\n",
            "Requirement already satisfied: rich in /home/dmin/.local/lib/python3.11/site-packages (from stable-baselines3[extra]) (14.1.0)\n",
            "Requirement already satisfied: ale-py>=0.9.0 in /home/dmin/.local/lib/python3.11/site-packages (from stable-baselines3[extra]) (0.11.2)\n",
            "Requirement already satisfied: pillow in /home/dmin/.local/lib/python3.11/site-packages (from stable-baselines3[extra]) (11.3.0)\n",
            "Requirement already satisfied: typing-extensions>=4.3.0 in /home/dmin/.local/lib/python3.11/site-packages (from gymnasium<1.3.0,>=0.29.1->stable-baselines3[extra]) (4.14.1)\n",
            "Requirement already satisfied: farama-notifications>=0.0.1 in /home/dmin/.local/lib/python3.11/site-packages (from gymnasium<1.3.0,>=0.29.1->stable-baselines3[extra]) (0.0.4)\n",
            "Requirement already satisfied: absl-py>=0.4 in /home/dmin/.local/lib/python3.11/site-packages (from tensorboard>=2.9.1->stable-baselines3[extra]) (2.3.1)\n",
            "Requirement already satisfied: grpcio>=1.48.2 in /home/dmin/.local/lib/python3.11/site-packages (from tensorboard>=2.9.1->stable-baselines3[extra]) (1.74.0)\n",
            "Requirement already satisfied: markdown>=2.6.8 in /home/dmin/.local/lib/python3.11/site-packages (from tensorboard>=2.9.1->stable-baselines3[extra]) (3.8.2)\n",
            "Requirement already satisfied: packaging in /home/dmin/.local/lib/python3.11/site-packages (from tensorboard>=2.9.1->stable-baselines3[extra]) (25.0)\n",
            "Requirement already satisfied: protobuf!=4.24.0,>=3.19.6 in /home/dmin/.local/lib/python3.11/site-packages (from tensorboard>=2.9.1->stable-baselines3[extra]) (6.31.1)\n",
            "Requirement already satisfied: setuptools>=41.0.0 in /usr/local/lib/python3.11/site-packages (from tensorboard>=2.9.1->stable-baselines3[extra]) (65.5.0)\n",
            "Requirement already satisfied: tensorboard-data-server<0.8.0,>=0.7.0 in /home/dmin/.local/lib/python3.11/site-packages (from tensorboard>=2.9.1->stable-baselines3[extra]) (0.7.2)\n",
            "Requirement already satisfied: werkzeug>=1.0.1 in /home/dmin/.local/lib/python3.11/site-packages (from tensorboard>=2.9.1->stable-baselines3[extra]) (3.1.3)\n",
            "Requirement already satisfied: filelock in /home/dmin/.local/lib/python3.11/site-packages (from torch<3.0,>=2.3->stable-baselines3[extra]) (3.18.0)\n",
            "Requirement already satisfied: sympy>=1.13.3 in /home/dmin/.local/lib/python3.11/site-packages (from torch<3.0,>=2.3->stable-baselines3[extra]) (1.14.0)\n",
            "Requirement already satisfied: networkx in /home/dmin/.local/lib/python3.11/site-packages (from torch<3.0,>=2.3->stable-baselines3[extra]) (3.5)\n",
            "Requirement already satisfied: jinja2 in /home/dmin/.local/lib/python3.11/site-packages (from torch<3.0,>=2.3->stable-baselines3[extra]) (3.1.6)\n",
            "Requirement already satisfied: fsspec in /home/dmin/.local/lib/python3.11/site-packages (from torch<3.0,>=2.3->stable-baselines3[extra]) (2025.7.0)\n",
            "Requirement already satisfied: nvidia-cuda-nvrtc-cu12==12.8.93 in /home/dmin/.local/lib/python3.11/site-packages (from torch<3.0,>=2.3->stable-baselines3[extra]) (12.8.93)\n",
            "Requirement already satisfied: nvidia-cuda-runtime-cu12==12.8.90 in /home/dmin/.local/lib/python3.11/site-packages (from torch<3.0,>=2.3->stable-baselines3[extra]) (12.8.90)\n",
            "Requirement already satisfied: nvidia-cuda-cupti-cu12==12.8.90 in /home/dmin/.local/lib/python3.11/site-packages (from torch<3.0,>=2.3->stable-baselines3[extra]) (12.8.90)\n",
            "Requirement already satisfied: nvidia-cudnn-cu12==9.10.2.21 in /home/dmin/.local/lib/python3.11/site-packages (from torch<3.0,>=2.3->stable-baselines3[extra]) (9.10.2.21)\n",
            "Requirement already satisfied: nvidia-cublas-cu12==12.8.4.1 in /home/dmin/.local/lib/python3.11/site-packages (from torch<3.0,>=2.3->stable-baselines3[extra]) (12.8.4.1)\n",
            "Requirement already satisfied: nvidia-cufft-cu12==11.3.3.83 in /home/dmin/.local/lib/python3.11/site-packages (from torch<3.0,>=2.3->stable-baselines3[extra]) (11.3.3.83)\n",
            "Requirement already satisfied: nvidia-curand-cu12==10.3.9.90 in /home/dmin/.local/lib/python3.11/site-packages (from torch<3.0,>=2.3->stable-baselines3[extra]) (10.3.9.90)\n",
            "Requirement already satisfied: nvidia-cusolver-cu12==11.7.3.90 in /home/dmin/.local/lib/python3.11/site-packages (from torch<3.0,>=2.3->stable-baselines3[extra]) (11.7.3.90)\n",
            "Requirement already satisfied: nvidia-cusparse-cu12==12.5.8.93 in /home/dmin/.local/lib/python3.11/site-packages (from torch<3.0,>=2.3->stable-baselines3[extra]) (12.5.8.93)\n",
            "Requirement already satisfied: nvidia-cusparselt-cu12==0.7.1 in /home/dmin/.local/lib/python3.11/site-packages (from torch<3.0,>=2.3->stable-baselines3[extra]) (0.7.1)\n",
            "Requirement already satisfied: nvidia-nccl-cu12==2.27.3 in /home/dmin/.local/lib/python3.11/site-packages (from torch<3.0,>=2.3->stable-baselines3[extra]) (2.27.3)\n",
            "Requirement already satisfied: nvidia-nvtx-cu12==12.8.90 in /home/dmin/.local/lib/python3.11/site-packages (from torch<3.0,>=2.3->stable-baselines3[extra]) (12.8.90)\n",
            "Requirement already satisfied: nvidia-nvjitlink-cu12==12.8.93 in /home/dmin/.local/lib/python3.11/site-packages (from torch<3.0,>=2.3->stable-baselines3[extra]) (12.8.93)\n",
            "Requirement already satisfied: nvidia-cufile-cu12==1.13.1.3 in /home/dmin/.local/lib/python3.11/site-packages (from torch<3.0,>=2.3->stable-baselines3[extra]) (1.13.1.3)\n",
            "Requirement already satisfied: triton==3.4.0 in /home/dmin/.local/lib/python3.11/site-packages (from torch<3.0,>=2.3->stable-baselines3[extra]) (3.4.0)\n",
            "Requirement already satisfied: contourpy>=1.0.1 in /home/dmin/.local/lib/python3.11/site-packages (from matplotlib->stable-baselines3[extra]) (1.3.3)\n",
            "Requirement already satisfied: cycler>=0.10 in /home/dmin/.local/lib/python3.11/site-packages (from matplotlib->stable-baselines3[extra]) (0.12.1)\n",
            "Requirement already satisfied: fonttools>=4.22.0 in /home/dmin/.local/lib/python3.11/site-packages (from matplotlib->stable-baselines3[extra]) (4.59.0)\n",
            "Requirement already satisfied: kiwisolver>=1.3.1 in /home/dmin/.local/lib/python3.11/site-packages (from matplotlib->stable-baselines3[extra]) (1.4.9)\n",
            "Requirement already satisfied: pyparsing>=2.3.1 in /home/dmin/.local/lib/python3.11/site-packages (from matplotlib->stable-baselines3[extra]) (3.2.3)\n",
            "Requirement already satisfied: python-dateutil>=2.7 in /home/dmin/.local/lib/python3.11/site-packages (from matplotlib->stable-baselines3[extra]) (2.9.0.post0)\n",
            "Requirement already satisfied: pytz>=2020.1 in /home/dmin/.local/lib/python3.11/site-packages (from pandas->stable-baselines3[extra]) (2025.2)\n",
            "Requirement already satisfied: tzdata>=2022.7 in /home/dmin/.local/lib/python3.11/site-packages (from pandas->stable-baselines3[extra]) (2025.2)\n",
            "Requirement already satisfied: markdown-it-py>=2.2.0 in /home/dmin/.local/lib/python3.11/site-packages (from rich->stable-baselines3[extra]) (4.0.0)\n",
            "Requirement already satisfied: pygments<3.0.0,>=2.13.0 in /home/dmin/.local/lib/python3.11/site-packages (from rich->stable-baselines3[extra]) (2.19.2)\n",
            "Requirement already satisfied: mdurl~=0.1 in /home/dmin/.local/lib/python3.11/site-packages (from markdown-it-py>=2.2.0->rich->stable-baselines3[extra]) (0.1.2)\n",
            "Requirement already satisfied: six>=1.5 in /home/dmin/.local/lib/python3.11/site-packages (from python-dateutil>=2.7->matplotlib->stable-baselines3[extra]) (1.17.0)\n",
            "Requirement already satisfied: mpmath<1.4,>=1.1.0 in /home/dmin/.local/lib/python3.11/site-packages (from sympy>=1.13.3->torch<3.0,>=2.3->stable-baselines3[extra]) (1.3.0)\n",
            "Requirement already satisfied: MarkupSafe>=2.1.1 in /home/dmin/.local/lib/python3.11/site-packages (from werkzeug>=1.0.1->tensorboard>=2.9.1->stable-baselines3[extra]) (3.0.2)\n",
            "\n",
            "\u001b[1m[\u001b[0m\u001b[34;49mnotice\u001b[0m\u001b[1;39;49m]\u001b[0m\u001b[39;49m A new release of pip is available: \u001b[0m\u001b[31;49m24.0\u001b[0m\u001b[39;49m -> \u001b[0m\u001b[32;49m25.2\u001b[0m\n",
            "\u001b[1m[\u001b[0m\u001b[34;49mnotice\u001b[0m\u001b[1;39;49m]\u001b[0m\u001b[39;49m To update, run: \u001b[0m\u001b[32;49mpip3.11 install --upgrade pip\u001b[0m\n",
            "Note: you may need to restart the kernel to use updated packages.\n",
            "Defaulting to user installation because normal site-packages is not writeable\n",
            "Requirement already satisfied: gymnasium in /home/dmin/.local/lib/python3.11/site-packages (1.2.0)\n",
            "Requirement already satisfied: numpy>=1.21.0 in /home/dmin/.local/lib/python3.11/site-packages (from gymnasium) (2.2.6)\n",
            "Requirement already satisfied: cloudpickle>=1.2.0 in /home/dmin/.local/lib/python3.11/site-packages (from gymnasium) (3.1.1)\n",
            "Requirement already satisfied: typing-extensions>=4.3.0 in /home/dmin/.local/lib/python3.11/site-packages (from gymnasium) (4.14.1)\n",
            "Requirement already satisfied: farama-notifications>=0.0.1 in /home/dmin/.local/lib/python3.11/site-packages (from gymnasium) (0.0.4)\n",
            "\n",
            "\u001b[1m[\u001b[0m\u001b[34;49mnotice\u001b[0m\u001b[1;39;49m]\u001b[0m\u001b[39;49m A new release of pip is available: \u001b[0m\u001b[31;49m24.0\u001b[0m\u001b[39;49m -> \u001b[0m\u001b[32;49m25.2\u001b[0m\n",
            "\u001b[1m[\u001b[0m\u001b[34;49mnotice\u001b[0m\u001b[1;39;49m]\u001b[0m\u001b[39;49m To update, run: \u001b[0m\u001b[32;49mpip3.11 install --upgrade pip\u001b[0m\n",
            "Note: you may need to restart the kernel to use updated packages.\n"
          ]
        }
      ],
      "source": [
        "%pip install stable-baselines3[extra]\n",
        "%pip install gymnasium"
      ]
    },
    {
      "cell_type": "code",
      "execution_count": 4,
      "metadata": {
        "id": "ABneW6tOSpyU"
      },
      "outputs": [
        {
          "name": "stdout",
          "output_type": "stream",
          "text": [
            "Defaulting to user installation because normal site-packages is not writeable\n",
            "Requirement already satisfied: huggingface_sb3 in /home/dmin/.local/lib/python3.11/site-packages (3.0)\n",
            "Requirement already satisfied: huggingface-hub~=0.8 in /home/dmin/.local/lib/python3.11/site-packages (from huggingface_sb3) (0.34.4)\n",
            "Requirement already satisfied: pyyaml~=6.0 in /home/dmin/.local/lib/python3.11/site-packages (from huggingface_sb3) (6.0.2)\n",
            "Requirement already satisfied: wasabi in /home/dmin/.local/lib/python3.11/site-packages (from huggingface_sb3) (1.1.3)\n",
            "Requirement already satisfied: numpy in /home/dmin/.local/lib/python3.11/site-packages (from huggingface_sb3) (2.2.6)\n",
            "Requirement already satisfied: cloudpickle>=1.6 in /home/dmin/.local/lib/python3.11/site-packages (from huggingface_sb3) (3.1.1)\n",
            "Requirement already satisfied: filelock in /home/dmin/.local/lib/python3.11/site-packages (from huggingface-hub~=0.8->huggingface_sb3) (3.18.0)\n",
            "Requirement already satisfied: fsspec>=2023.5.0 in /home/dmin/.local/lib/python3.11/site-packages (from huggingface-hub~=0.8->huggingface_sb3) (2025.7.0)\n",
            "Requirement already satisfied: packaging>=20.9 in /home/dmin/.local/lib/python3.11/site-packages (from huggingface-hub~=0.8->huggingface_sb3) (25.0)\n",
            "Requirement already satisfied: requests in /home/dmin/.local/lib/python3.11/site-packages (from huggingface-hub~=0.8->huggingface_sb3) (2.32.4)\n",
            "Requirement already satisfied: tqdm>=4.42.1 in /home/dmin/.local/lib/python3.11/site-packages (from huggingface-hub~=0.8->huggingface_sb3) (4.67.1)\n",
            "Requirement already satisfied: typing-extensions>=3.7.4.3 in /home/dmin/.local/lib/python3.11/site-packages (from huggingface-hub~=0.8->huggingface_sb3) (4.14.1)\n",
            "Requirement already satisfied: hf-xet<2.0.0,>=1.1.3 in /home/dmin/.local/lib/python3.11/site-packages (from huggingface-hub~=0.8->huggingface_sb3) (1.1.7)\n",
            "Requirement already satisfied: charset_normalizer<4,>=2 in /home/dmin/.local/lib/python3.11/site-packages (from requests->huggingface-hub~=0.8->huggingface_sb3) (3.4.3)\n",
            "Requirement already satisfied: idna<4,>=2.5 in /home/dmin/.local/lib/python3.11/site-packages (from requests->huggingface-hub~=0.8->huggingface_sb3) (3.10)\n",
            "Requirement already satisfied: urllib3<3,>=1.21.1 in /home/dmin/.local/lib/python3.11/site-packages (from requests->huggingface-hub~=0.8->huggingface_sb3) (2.5.0)\n",
            "Requirement already satisfied: certifi>=2017.4.17 in /home/dmin/.local/lib/python3.11/site-packages (from requests->huggingface-hub~=0.8->huggingface_sb3) (2025.8.3)\n",
            "\n",
            "\u001b[1m[\u001b[0m\u001b[34;49mnotice\u001b[0m\u001b[1;39;49m]\u001b[0m\u001b[39;49m A new release of pip is available: \u001b[0m\u001b[31;49m24.0\u001b[0m\u001b[39;49m -> \u001b[0m\u001b[32;49m25.2\u001b[0m\n",
            "\u001b[1m[\u001b[0m\u001b[34;49mnotice\u001b[0m\u001b[1;39;49m]\u001b[0m\u001b[39;49m To update, run: \u001b[0m\u001b[32;49mpip3.11 install --upgrade pip\u001b[0m\n",
            "Note: you may need to restart the kernel to use updated packages.\n",
            "Defaulting to user installation because normal site-packages is not writeable\n",
            "Requirement already satisfied: huggingface_hub in /home/dmin/.local/lib/python3.11/site-packages (0.34.4)\n",
            "Requirement already satisfied: filelock in /home/dmin/.local/lib/python3.11/site-packages (from huggingface_hub) (3.18.0)\n",
            "Requirement already satisfied: fsspec>=2023.5.0 in /home/dmin/.local/lib/python3.11/site-packages (from huggingface_hub) (2025.7.0)\n",
            "Requirement already satisfied: packaging>=20.9 in /home/dmin/.local/lib/python3.11/site-packages (from huggingface_hub) (25.0)\n",
            "Requirement already satisfied: pyyaml>=5.1 in /home/dmin/.local/lib/python3.11/site-packages (from huggingface_hub) (6.0.2)\n",
            "Requirement already satisfied: requests in /home/dmin/.local/lib/python3.11/site-packages (from huggingface_hub) (2.32.4)\n",
            "Requirement already satisfied: tqdm>=4.42.1 in /home/dmin/.local/lib/python3.11/site-packages (from huggingface_hub) (4.67.1)\n",
            "Requirement already satisfied: typing-extensions>=3.7.4.3 in /home/dmin/.local/lib/python3.11/site-packages (from huggingface_hub) (4.14.1)\n",
            "Requirement already satisfied: hf-xet<2.0.0,>=1.1.3 in /home/dmin/.local/lib/python3.11/site-packages (from huggingface_hub) (1.1.7)\n",
            "Requirement already satisfied: charset_normalizer<4,>=2 in /home/dmin/.local/lib/python3.11/site-packages (from requests->huggingface_hub) (3.4.3)\n",
            "Requirement already satisfied: idna<4,>=2.5 in /home/dmin/.local/lib/python3.11/site-packages (from requests->huggingface_hub) (3.10)\n",
            "Requirement already satisfied: urllib3<3,>=1.21.1 in /home/dmin/.local/lib/python3.11/site-packages (from requests->huggingface_hub) (2.5.0)\n",
            "Requirement already satisfied: certifi>=2017.4.17 in /home/dmin/.local/lib/python3.11/site-packages (from requests->huggingface_hub) (2025.8.3)\n",
            "\n",
            "\u001b[1m[\u001b[0m\u001b[34;49mnotice\u001b[0m\u001b[1;39;49m]\u001b[0m\u001b[39;49m A new release of pip is available: \u001b[0m\u001b[31;49m24.0\u001b[0m\u001b[39;49m -> \u001b[0m\u001b[32;49m25.2\u001b[0m\n",
            "\u001b[1m[\u001b[0m\u001b[34;49mnotice\u001b[0m\u001b[1;39;49m]\u001b[0m\u001b[39;49m To update, run: \u001b[0m\u001b[32;49mpip3.11 install --upgrade pip\u001b[0m\n",
            "Note: you may need to restart the kernel to use updated packages.\n",
            "Defaulting to user installation because normal site-packages is not writeable\n",
            "Requirement already satisfied: panda_gym in /home/dmin/.local/lib/python3.11/site-packages (3.0.7)\n",
            "Requirement already satisfied: gymnasium>=0.26 in /home/dmin/.local/lib/python3.11/site-packages (from panda_gym) (1.2.0)\n",
            "Requirement already satisfied: pybullet in /home/dmin/.local/lib/python3.11/site-packages (from panda_gym) (3.2.7)\n",
            "Requirement already satisfied: numpy in /home/dmin/.local/lib/python3.11/site-packages (from panda_gym) (2.2.6)\n",
            "Requirement already satisfied: scipy in /home/dmin/.local/lib/python3.11/site-packages (from panda_gym) (1.16.1)\n",
            "Requirement already satisfied: cloudpickle>=1.2.0 in /home/dmin/.local/lib/python3.11/site-packages (from gymnasium>=0.26->panda_gym) (3.1.1)\n",
            "Requirement already satisfied: typing-extensions>=4.3.0 in /home/dmin/.local/lib/python3.11/site-packages (from gymnasium>=0.26->panda_gym) (4.14.1)\n",
            "Requirement already satisfied: farama-notifications>=0.0.1 in /home/dmin/.local/lib/python3.11/site-packages (from gymnasium>=0.26->panda_gym) (0.0.4)\n",
            "\n",
            "\u001b[1m[\u001b[0m\u001b[34;49mnotice\u001b[0m\u001b[1;39;49m]\u001b[0m\u001b[39;49m A new release of pip is available: \u001b[0m\u001b[31;49m24.0\u001b[0m\u001b[39;49m -> \u001b[0m\u001b[32;49m25.2\u001b[0m\n",
            "\u001b[1m[\u001b[0m\u001b[34;49mnotice\u001b[0m\u001b[1;39;49m]\u001b[0m\u001b[39;49m To update, run: \u001b[0m\u001b[32;49mpip3.11 install --upgrade pip\u001b[0m\n",
            "Note: you may need to restart the kernel to use updated packages.\n"
          ]
        }
      ],
      "source": [
        "%pip install huggingface_sb3\n",
        "%pip install huggingface_hub\n",
        "%pip install panda_gym"
      ]
    },
    {
      "cell_type": "markdown",
      "metadata": {
        "id": "QTep3PQQABLr"
      },
      "source": [
        "## Import the packages 📦"
      ]
    },
    {
      "cell_type": "code",
      "execution_count": 5,
      "metadata": {
        "id": "HpiB8VdnQ7Bk"
      },
      "outputs": [],
      "source": [
        "import os\n",
        "\n",
        "import gymnasium as gym\n",
        "import panda_gym\n",
        "\n",
        "from huggingface_sb3 import load_from_hub, package_to_hub\n",
        "\n",
        "from stable_baselines3 import A2C\n",
        "from stable_baselines3.common.evaluation import evaluate_policy\n",
        "from stable_baselines3.common.vec_env import DummyVecEnv, VecNormalize\n",
        "from stable_baselines3.common.env_util import make_vec_env\n",
        "\n",
        "from huggingface_hub import notebook_login"
      ]
    },
    {
      "cell_type": "markdown",
      "metadata": {
        "id": "lfBwIS_oAVXI"
      },
      "source": [
        "## PandaReachDense-v3 🦾\n",
        "\n",
        "The agent we're going to train is a robotic arm that needs to do controls (moving the arm and using the end-effector).\n",
        "\n",
        "In robotics, the *end-effector* is the device at the end of a robotic arm designed to interact with the environment.\n",
        "\n",
        "In `PandaReach`, the robot must place its end-effector at a target position (green ball).\n",
        "\n",
        "We're going to use the dense version of this environment. It means we'll get a *dense reward function* that **will provide a reward at each timestep** (the closer the agent is to completing the task, the higher the reward). Contrary to a *sparse reward function* where the environment **return a reward if and only if the task is completed**.\n",
        "\n",
        "Also, we're going to use the *End-effector displacement control*, it means the **action corresponds to the displacement of the end-effector**. We don't control the individual motion of each joint (joint control).\n",
        "\n",
        "<img src=\"https://huggingface.co/datasets/huggingface-deep-rl-course/course-images/resolve/main/en/unit8/robotics.jpg\"  alt=\"Robotics\"/>\n",
        "\n",
        "\n",
        "This way **the training will be easier**.\n",
        "\n"
      ]
    },
    {
      "cell_type": "markdown",
      "metadata": {
        "id": "frVXOrnlBerQ"
      },
      "source": [
        "### Create the environment\n",
        "\n",
        "#### The environment 🎮\n",
        "\n",
        "In `PandaReachDense-v3` the robotic arm must place its end-effector at a target position (green ball)."
      ]
    },
    {
      "cell_type": "code",
      "execution_count": 18,
      "metadata": {
        "id": "zXzAu3HYF1WD"
      },
      "outputs": [
        {
          "name": "stdout",
          "output_type": "stream",
          "text": [
            "argv[0]=--background_color_red=0.8745098114013672\n",
            "argv[1]=--background_color_green=0.21176470816135406\n",
            "argv[2]=--background_color_blue=0.1764705926179886\n"
          ]
        }
      ],
      "source": [
        "env_id = \"PandaReachDense-v3\"\n",
        "\n",
        "# Create the env\n",
        "env = gym.make(env_id)\n",
        "\n",
        "# Get the state space and action space\n",
        "s_size = env.observation_space.shape\n",
        "a_size = env.action_space"
      ]
    },
    {
      "cell_type": "code",
      "execution_count": null,
      "metadata": {
        "id": "E-U9dexcF-FB"
      },
      "outputs": [],
      "source": [
        "print(\"_____OBSERVATION SPACE_____ \\n\")\n",
        "print(\"The State Space is: \", s_size)\n",
        "print(\"Sample observation\", env.observation_space.sample()) # Get a random observation"
      ]
    },
    {
      "cell_type": "markdown",
      "metadata": {
        "id": "g_JClfElGFnF"
      },
      "source": [
        "The observation space **is a dictionary with 3 different elements**:\n",
        "- `achieved_goal`: (x,y,z) the current position of the end-effector.\n",
        "- `desired_goal`: (x,y,z) the target position for the end-effector.\n",
        "- `observation`: position (x,y,z) and velocity of the end-effector (vx, vy, vz).\n",
        "\n",
        "Given it's a dictionary as observation, **we will need to use a MultiInputPolicy policy instead of MlpPolicy**."
      ]
    },
    {
      "cell_type": "code",
      "execution_count": null,
      "metadata": {
        "id": "ib1Kxy4AF-FC"
      },
      "outputs": [],
      "source": [
        "print(\"\\n _____ACTION SPACE_____ \\n\")\n",
        "print(\"The Action Space is: \", a_size)\n",
        "print(\"Action Space Sample\", env.action_space.sample()) # Take a random action"
      ]
    },
    {
      "cell_type": "markdown",
      "metadata": {
        "id": "5MHTHEHZS4yp"
      },
      "source": [
        "The action space is a vector with 3 values:\n",
        "- Control x, y, z movement"
      ]
    },
    {
      "cell_type": "markdown",
      "metadata": {
        "id": "S5sXcg469ysB"
      },
      "source": [
        "### Normalize observation and rewards"
      ]
    },
    {
      "cell_type": "markdown",
      "metadata": {
        "id": "1ZyX6qf3Zva9"
      },
      "source": [
        "A good practice in reinforcement learning is to [normalize input features](https://stable-baselines3.readthedocs.io/en/master/guide/rl_tips.html).\n",
        "\n",
        "For that purpose, there is a wrapper that will compute a running average and standard deviation of input features.\n",
        "\n",
        "We also normalize rewards with this same wrapper by adding `norm_reward = True`\n",
        "\n",
        "[You should check the documentation to fill this cell](https://stable-baselines3.readthedocs.io/en/master/guide/vec_envs.html#vecnormalize)"
      ]
    },
    {
      "cell_type": "code",
      "execution_count": null,
      "metadata": {
        "id": "1RsDtHHAQ9Ie"
      },
      "outputs": [],
      "source": [
        "env = make_vec_env(env_id, n_envs=4)\n",
        "\n",
        "# Adding this wrapper to normalize the observation and the reward\n",
        "env = # TODO: Add the wrapper"
      ]
    },
    {
      "cell_type": "markdown",
      "metadata": {
        "id": "tF42HvI7-gs5"
      },
      "source": [
        "#### Solution"
      ]
    },
    {
      "cell_type": "code",
      "execution_count": null,
      "metadata": {
        "id": "2O67mqgC-hol"
      },
      "outputs": [],
      "source": [
        "env = make_vec_env(env_id, n_envs=4)\n",
        "\n",
        "env = VecNormalize(env, norm_obs=True, norm_reward=True, clip_obs=10.)"
      ]
    },
    {
      "cell_type": "markdown",
      "metadata": {
        "id": "4JmEVU6z1ZA-"
      },
      "source": [
        "### Create the A2C Model 🤖\n",
        "\n",
        "For more information about A2C implementation with StableBaselines3 check: https://stable-baselines3.readthedocs.io/en/master/modules/a2c.html#notes\n",
        "\n",
        "To find the best parameters I checked the [official trained agents by Stable-Baselines3 team](https://huggingface.co/sb3)."
      ]
    },
    {
      "cell_type": "code",
      "execution_count": null,
      "metadata": {
        "id": "vR3T4qFt164I"
      },
      "outputs": [],
      "source": [
        "model = # Create the A2C model and try to find the best parameters"
      ]
    },
    {
      "cell_type": "markdown",
      "metadata": {
        "id": "nWAuOOLh-oQf"
      },
      "source": [
        "#### Solution"
      ]
    },
    {
      "cell_type": "code",
      "execution_count": null,
      "metadata": {
        "id": "FKFLY54T-pU1"
      },
      "outputs": [],
      "source": [
        "model = A2C(policy = \"MultiInputPolicy\",\n",
        "            env = env,\n",
        "            verbose=1)"
      ]
    },
    {
      "cell_type": "markdown",
      "metadata": {
        "id": "opyK3mpJ1-m9"
      },
      "source": [
        "### Train the A2C agent 🏃\n",
        "- Let's train our agent for 1,000,000 timesteps, don't forget to use GPU on Colab. It will take approximately ~25-40min"
      ]
    },
    {
      "cell_type": "code",
      "execution_count": null,
      "metadata": {
        "id": "4TuGHZD7RF1G"
      },
      "outputs": [],
      "source": [
        "model.learn(1_000_000)"
      ]
    },
    {
      "cell_type": "code",
      "execution_count": null,
      "metadata": {
        "id": "MfYtjj19cKFr"
      },
      "outputs": [],
      "source": [
        "# Save the model and  VecNormalize statistics when saving the agent\n",
        "model.save(\"a2c-PandaReachDense-v3\")\n",
        "env.save(\"vec_normalize.pkl\")"
      ]
    },
    {
      "cell_type": "markdown",
      "metadata": {
        "id": "01M9GCd32Ig-"
      },
      "source": [
        "### Evaluate the agent 📈\n",
        "- Now that's our  agent is trained, we need to **check its performance**.\n",
        "- Stable-Baselines3 provides a method to do that: `evaluate_policy`"
      ]
    },
    {
      "cell_type": "code",
      "execution_count": 31,
      "metadata": {
        "id": "liirTVoDkHq3"
      },
      "outputs": [
        {
          "name": "stdout",
          "output_type": "stream",
          "text": [
            "argv[0]=--background_color_red=0.8745098114013672\n",
            "argv[1]=--background_color_green=0.21176470816135406\n",
            "argv[2]=--background_color_blue=0.1764705926179886\n",
            "Mean reward = -0.18 +/- 0.07\n"
          ]
        }
      ],
      "source": [
        "from stable_baselines3.common.vec_env import DummyVecEnv, VecNormalize\n",
        "\n",
        "# Load the saved statistics\n",
        "eval_env = DummyVecEnv([lambda: gym.make(\"PandaReachDense-v3\")])\n",
        "eval_env = VecNormalize.load(\"vec_normalize.pkl\", eval_env)\n",
        "\n",
        "# We need to override the render_mode\n",
        "eval_env.render_mode = \"rgb_array\"\n",
        "\n",
        "#  do not update them at test time\n",
        "eval_env.training = False\n",
        "# reward normalization is not needed at test time\n",
        "eval_env.norm_reward = False\n",
        "\n",
        "# Load the agent\n",
        "model = A2C.load(\"a2c-PandaReachDense-v3\")\n",
        "\n",
        "mean_reward, std_reward = evaluate_policy(model, eval_env)\n",
        "\n",
        "print(f\"Mean reward = {mean_reward:.2f} +/- {std_reward:.2f}\")"
      ]
    },
    {
      "cell_type": "markdown",
      "metadata": {
        "id": "44L9LVQaavR8"
      },
      "source": [
        "### Publish your trained model on the Hub 🔥\n",
        "Now that we saw we got good results after the training, we can publish our trained model on the Hub with one line of code.\n",
        "\n",
        "📚 The libraries documentation 👉 https://github.com/huggingface/huggingface_sb3/tree/main#hugging-face--x-stable-baselines3-v20\n"
      ]
    },
    {
      "cell_type": "markdown",
      "metadata": {
        "id": "MkMk99m8bgaQ"
      },
      "source": [
        "By using `package_to_hub`, as we already mentionned in the former units, **you evaluate, record a replay, generate a model card of your agent and push it to the hub**.\n",
        "\n",
        "This way:\n",
        "- You can **showcase our work** 🔥\n",
        "- You can **visualize your agent playing** 👀\n",
        "- You can **share with the community an agent that others can use** 💾\n",
        "- You can **access a leaderboard 🏆 to see how well your agent is performing compared to your classmates** 👉 https://huggingface.co/spaces/huggingface-projects/Deep-Reinforcement-Learning-Leaderboard\n"
      ]
    },
    {
      "cell_type": "markdown",
      "metadata": {
        "id": "JquRrWytA6eo"
      },
      "source": [
        "To be able to share your model with the community there are three more steps to follow:\n",
        "\n",
        "1️⃣ (If it's not already done) create an account to HF ➡ https://huggingface.co/join\n",
        "\n",
        "2️⃣ Sign in and then, you need to store your authentication token from the Hugging Face website.\n",
        "- Create a new token (https://huggingface.co/settings/tokens) **with write role**\n",
        "\n",
        "<img src=\"https://huggingface.co/datasets/huggingface-deep-rl-course/course-images/resolve/main/en/notebooks/create-token.jpg\" alt=\"Create HF Token\">\n",
        "\n",
        "- Copy the token\n",
        "- Run the cell below and paste the token"
      ]
    },
    {
      "cell_type": "code",
      "execution_count": 16,
      "metadata": {
        "id": "GZiFBBlzxzxY"
      },
      "outputs": [
        {
          "data": {
            "application/vnd.jupyter.widget-view+json": {
              "model_id": "f6d743b607aa48e3a614386b0fb92a03",
              "version_major": 2,
              "version_minor": 0
            },
            "text/plain": [
              "VBox(children=(HTML(value='<center> <img\\nsrc=https://huggingface.co/front/assets/huggingface_logo-noborder.sv…"
            ]
          },
          "metadata": {},
          "output_type": "display_data"
        }
      ],
      "source": [
        "notebook_login()\n",
        "!git config --global credential.helper store"
      ]
    },
    {
      "cell_type": "markdown",
      "metadata": {
        "id": "_tsf2uv0g_4p"
      },
      "source": [
        "If you don't want to use a Google Colab or a Jupyter Notebook, you need to use this command instead: `huggingface-cli login`"
      ]
    },
    {
      "cell_type": "markdown",
      "metadata": {
        "id": "FGNh9VsZok0i"
      },
      "source": [
        "3️⃣ We're now ready to push our trained agent to the 🤗 Hub 🔥 using `package_to_hub()` function"
      ]
    },
    {
      "cell_type": "markdown",
      "metadata": {
        "id": "juxItTNf1W74"
      },
      "source": [
        "For this environment, **running this cell can take approximately 10min**"
      ]
    },
    {
      "cell_type": "code",
      "execution_count": 22,
      "metadata": {},
      "outputs": [
        {
          "name": "stdout",
          "output_type": "stream",
          "text": [
            "Defaulting to user installation because normal site-packages is not writeable\n",
            "Requirement already satisfied: gymnasium[other] in /home/dmin/.local/lib/python3.11/site-packages (1.2.0)\n",
            "Requirement already satisfied: numpy>=1.21.0 in /home/dmin/.local/lib/python3.11/site-packages (from gymnasium[other]) (2.2.6)\n",
            "Requirement already satisfied: cloudpickle>=1.2.0 in /home/dmin/.local/lib/python3.11/site-packages (from gymnasium[other]) (3.1.1)\n",
            "Requirement already satisfied: typing-extensions>=4.3.0 in /home/dmin/.local/lib/python3.11/site-packages (from gymnasium[other]) (4.14.1)\n",
            "Requirement already satisfied: farama-notifications>=0.0.1 in /home/dmin/.local/lib/python3.11/site-packages (from gymnasium[other]) (0.0.4)\n",
            "Collecting moviepy>=1.0.0 (from gymnasium[other])\n",
            "  Downloading moviepy-2.2.1-py3-none-any.whl.metadata (6.9 kB)\n",
            "Requirement already satisfied: matplotlib>=3.0 in /home/dmin/.local/lib/python3.11/site-packages (from gymnasium[other]) (3.10.5)\n",
            "Requirement already satisfied: opencv-python>=3.0 in /home/dmin/.local/lib/python3.11/site-packages (from gymnasium[other]) (4.12.0.88)\n",
            "Collecting seaborn>=0.13 (from gymnasium[other])\n",
            "  Downloading seaborn-0.13.2-py3-none-any.whl.metadata (5.4 kB)\n",
            "Requirement already satisfied: contourpy>=1.0.1 in /home/dmin/.local/lib/python3.11/site-packages (from matplotlib>=3.0->gymnasium[other]) (1.3.3)\n",
            "Requirement already satisfied: cycler>=0.10 in /home/dmin/.local/lib/python3.11/site-packages (from matplotlib>=3.0->gymnasium[other]) (0.12.1)\n",
            "Requirement already satisfied: fonttools>=4.22.0 in /home/dmin/.local/lib/python3.11/site-packages (from matplotlib>=3.0->gymnasium[other]) (4.59.0)\n",
            "Requirement already satisfied: kiwisolver>=1.3.1 in /home/dmin/.local/lib/python3.11/site-packages (from matplotlib>=3.0->gymnasium[other]) (1.4.9)\n",
            "Requirement already satisfied: packaging>=20.0 in /home/dmin/.local/lib/python3.11/site-packages (from matplotlib>=3.0->gymnasium[other]) (25.0)\n",
            "Requirement already satisfied: pillow>=8 in /home/dmin/.local/lib/python3.11/site-packages (from matplotlib>=3.0->gymnasium[other]) (11.3.0)\n",
            "Requirement already satisfied: pyparsing>=2.3.1 in /home/dmin/.local/lib/python3.11/site-packages (from matplotlib>=3.0->gymnasium[other]) (3.2.3)\n",
            "Requirement already satisfied: python-dateutil>=2.7 in /home/dmin/.local/lib/python3.11/site-packages (from matplotlib>=3.0->gymnasium[other]) (2.9.0.post0)\n",
            "Requirement already satisfied: decorator<6.0,>=4.0.2 in /home/dmin/.local/lib/python3.11/site-packages (from moviepy>=1.0.0->gymnasium[other]) (5.2.1)\n",
            "Collecting imageio<3.0,>=2.5 (from moviepy>=1.0.0->gymnasium[other])\n",
            "  Downloading imageio-2.37.0-py3-none-any.whl.metadata (5.2 kB)\n",
            "Collecting imageio_ffmpeg>=0.2.0 (from moviepy>=1.0.0->gymnasium[other])\n",
            "  Downloading imageio_ffmpeg-0.6.0-py3-none-manylinux2014_x86_64.whl.metadata (1.5 kB)\n",
            "Collecting proglog<=1.0.0 (from moviepy>=1.0.0->gymnasium[other])\n",
            "  Downloading proglog-0.1.12-py3-none-any.whl.metadata (794 bytes)\n",
            "Collecting python-dotenv>=0.10 (from moviepy>=1.0.0->gymnasium[other])\n",
            "  Downloading python_dotenv-1.1.1-py3-none-any.whl.metadata (24 kB)\n",
            "Requirement already satisfied: pandas>=1.2 in /home/dmin/.local/lib/python3.11/site-packages (from seaborn>=0.13->gymnasium[other]) (2.3.1)\n",
            "Requirement already satisfied: pytz>=2020.1 in /home/dmin/.local/lib/python3.11/site-packages (from pandas>=1.2->seaborn>=0.13->gymnasium[other]) (2025.2)\n",
            "Requirement already satisfied: tzdata>=2022.7 in /home/dmin/.local/lib/python3.11/site-packages (from pandas>=1.2->seaborn>=0.13->gymnasium[other]) (2025.2)\n",
            "Requirement already satisfied: tqdm in /home/dmin/.local/lib/python3.11/site-packages (from proglog<=1.0.0->moviepy>=1.0.0->gymnasium[other]) (4.67.1)\n",
            "Requirement already satisfied: six>=1.5 in /home/dmin/.local/lib/python3.11/site-packages (from python-dateutil>=2.7->matplotlib>=3.0->gymnasium[other]) (1.17.0)\n",
            "Downloading moviepy-2.2.1-py3-none-any.whl (129 kB)\n",
            "\u001b[2K   \u001b[90m━━━━━━━━━━━━━━━━━━━━━━━━━━━━━━━━━━━━━━━━\u001b[0m \u001b[32m129.9/129.9 kB\u001b[0m \u001b[31m1.8 MB/s\u001b[0m eta \u001b[36m0:00:00\u001b[0m \u001b[36m0:00:01\u001b[0m\n",
            "\u001b[?25hDownloading seaborn-0.13.2-py3-none-any.whl (294 kB)\n",
            "\u001b[2K   \u001b[90m━━━━━━━━━━━━━━━━━━━━━━━━━━━━━━━━━━━━━━━━\u001b[0m \u001b[32m294.9/294.9 kB\u001b[0m \u001b[31m3.6 MB/s\u001b[0m eta \u001b[36m0:00:00\u001b[0ma \u001b[36m0:00:01\u001b[0m\n",
            "\u001b[?25hDownloading imageio-2.37.0-py3-none-any.whl (315 kB)\n",
            "\u001b[2K   \u001b[90m━━━━━━━━━━━━━━━━━━━━━━━━━━━━━━━━━━━━━━━━\u001b[0m \u001b[32m315.8/315.8 kB\u001b[0m \u001b[31m4.2 MB/s\u001b[0m eta \u001b[36m0:00:00\u001b[0ma \u001b[36m0:00:01\u001b[0m\n",
            "\u001b[?25hDownloading imageio_ffmpeg-0.6.0-py3-none-manylinux2014_x86_64.whl (29.5 MB)\n",
            "\u001b[2K   \u001b[90m━━━━━━━━━━━━━━━━━━━━━━━━━━━━━━━━━━━━━━━━\u001b[0m \u001b[32m29.5/29.5 MB\u001b[0m \u001b[31m4.2 MB/s\u001b[0m eta \u001b[36m0:00:00\u001b[0m00:01\u001b[0m00:01\u001b[0m\n",
            "\u001b[?25hDownloading proglog-0.1.12-py3-none-any.whl (6.3 kB)\n",
            "Downloading python_dotenv-1.1.1-py3-none-any.whl (20 kB)\n",
            "Installing collected packages: python-dotenv, proglog, imageio_ffmpeg, imageio, moviepy, seaborn\n",
            "Successfully installed imageio-2.37.0 imageio_ffmpeg-0.6.0 moviepy-2.2.1 proglog-0.1.12 python-dotenv-1.1.1 seaborn-0.13.2\n",
            "\n",
            "\u001b[1m[\u001b[0m\u001b[34;49mnotice\u001b[0m\u001b[1;39;49m]\u001b[0m\u001b[39;49m A new release of pip is available: \u001b[0m\u001b[31;49m24.0\u001b[0m\u001b[39;49m -> \u001b[0m\u001b[32;49m25.2\u001b[0m\n",
            "\u001b[1m[\u001b[0m\u001b[34;49mnotice\u001b[0m\u001b[1;39;49m]\u001b[0m\u001b[39;49m To update, run: \u001b[0m\u001b[32;49mpip3.11 install --upgrade pip\u001b[0m\n",
            "Note: you may need to restart the kernel to use updated packages.\n"
          ]
        }
      ],
      "source": [
        "%pip install gymnasium[other]"
      ]
    },
    {
      "cell_type": "code",
      "execution_count": 37,
      "metadata": {
        "id": "V1N8r8QVwcCE"
      },
      "outputs": [
        {
          "name": "stdout",
          "output_type": "stream",
          "text": [
            "\u001b[38;5;4mℹ This function will save, evaluate, generate a video of your agent,\n",
            "create a model card and push everything to the hub. It might take up to 1min.\n",
            "This is a work in progress: if you encounter a bug, please open an issue.\u001b[0m\n",
            "\u001b[38;5;4mℹ Pushing repo LizardAPN/a2c-PandaReachDense-v3 to the Hugging Face\n",
            "Hub\u001b[0m\n"
          ]
        },
        {
          "data": {
            "application/vnd.jupyter.widget-view+json": {
              "model_id": "9d370f2af7e247c98b293a0b4ffd8935",
              "version_major": 2,
              "version_minor": 0
            },
            "text/plain": [
              "Processing Files (0 / 0)                : |          |  0.00B /  0.00B            "
            ]
          },
          "metadata": {},
          "output_type": "display_data"
        },
        {
          "data": {
            "application/vnd.jupyter.widget-view+json": {
              "model_id": "68a9fe4aa4fa48bdaf0322fd42453d92",
              "version_major": 2,
              "version_minor": 0
            },
            "text/plain": [
              "New Data Upload                         : |          |  0.00B /  0.00B            "
            ]
          },
          "metadata": {},
          "output_type": "display_data"
        },
        {
          "data": {
            "application/vnd.jupyter.widget-view+json": {
              "model_id": "69a46871e3ae4e60a877fcdf8fcae39a",
              "version_major": 2,
              "version_minor": 0
            },
            "text/plain": [
              "  ...aReachDense-v3/policy.optimizer.pth: 100%|##########| 48.9kB / 48.9kB            "
            ]
          },
          "metadata": {},
          "output_type": "display_data"
        },
        {
          "data": {
            "application/vnd.jupyter.widget-view+json": {
              "model_id": "0b87efcd578a4a6384038fa90186c88b",
              "version_major": 2,
              "version_minor": 0
            },
            "text/plain": [
              "  ...s/a2c-PandaReachDense-v3/policy.pth: 100%|##########| 46.8kB / 46.8kB            "
            ]
          },
          "metadata": {},
          "output_type": "display_data"
        },
        {
          "data": {
            "application/vnd.jupyter.widget-view+json": {
              "model_id": "997a55e0c037415b92074e86e85ad446",
              "version_major": 2,
              "version_minor": 0
            },
            "text/plain": [
              "  ...ReachDense-v3/pytorch_variables.pth: 100%|##########| 1.26kB / 1.26kB            "
            ]
          },
          "metadata": {},
          "output_type": "display_data"
        },
        {
          "data": {
            "application/vnd.jupyter.widget-view+json": {
              "model_id": "0e362c5d1ce5476daa6409ca665cced2",
              "version_major": 2,
              "version_minor": 0
            },
            "text/plain": [
              "  ...ajcrpzds/a2c-PandaReachDense-v3.zip:  35%|###4      | 39.8kB /  114kB            "
            ]
          },
          "metadata": {},
          "output_type": "display_data"
        },
        {
          "data": {
            "application/vnd.jupyter.widget-view+json": {
              "model_id": "96de099d3b784c4d9b1f4097bafbcf40",
              "version_major": 2,
              "version_minor": 0
            },
            "text/plain": [
              "  /tmp/tmpajcrpzds/vec_normalize.pkl    : 100%|##########| 2.66kB / 2.66kB            "
            ]
          },
          "metadata": {},
          "output_type": "display_data"
        },
        {
          "name": "stdout",
          "output_type": "stream",
          "text": [
            "\u001b[38;5;4mℹ Your model is pushed to the Hub. You can view your model here:\n",
            "https://huggingface.co/LizardAPN/a2c-PandaReachDense-v3/tree/main/\u001b[0m\n"
          ]
        },
        {
          "data": {
            "text/plain": [
              "CommitInfo(commit_url='https://huggingface.co/LizardAPN/a2c-PandaReachDense-v3/commit/426f1dd00d24aa3299df1c22aa8121a10f50a150', commit_message='Initial commit', commit_description='', oid='426f1dd00d24aa3299df1c22aa8121a10f50a150', pr_url=None, repo_url=RepoUrl('https://huggingface.co/LizardAPN/a2c-PandaReachDense-v3', endpoint='https://huggingface.co', repo_type='model', repo_id='LizardAPN/a2c-PandaReachDense-v3'), pr_revision=None, pr_num=None)"
            ]
          },
          "execution_count": 37,
          "metadata": {},
          "output_type": "execute_result"
        }
      ],
      "source": [
        "from huggingface_sb3 import package_to_hub\n",
        "\n",
        "package_to_hub(\n",
        "    model=model,\n",
        "    model_name=f\"a2c-{env_id}\",\n",
        "    model_architecture=\"A2C\",\n",
        "    env_id=env_id,\n",
        "    eval_env=eval_env,\n",
        "    repo_id=f\"LizardAPN/a2c-{env_id}\", # Change the username\n",
        "    commit_message=\"Initial commit\"\n",
        ")"
      ]
    },
    {
      "cell_type": "markdown",
      "metadata": {
        "id": "G3xy3Nf3c2O1"
      },
      "source": [
        "## Some additional challenges 🏆\n",
        "The best way to learn **is to try things by your own**! Why not trying  `PandaPickAndPlace-v3`?\n",
        "\n",
        "If you want to try more advanced tasks for panda-gym, you need to check what was done using **TQC or SAC** (a more sample-efficient algorithm suited for robotics tasks). In real robotics, you'll use a more sample-efficient algorithm for a simple reason: contrary to a simulation **if you move your robotic arm too much, you have a risk of breaking it**.\n",
        "\n",
        "PandaPickAndPlace-v1 (this model uses the v1 version of the environment): https://huggingface.co/sb3/tqc-PandaPickAndPlace-v1\n",
        "\n",
        "And don't hesitate to check panda-gym documentation here: https://panda-gym.readthedocs.io/en/latest/usage/train_with_sb3.html\n",
        "\n",
        "We provide you the steps to train another agent (optional):\n",
        "\n",
        "1. Define the environment called \"PandaPickAndPlace-v3\"\n",
        "2. Make a vectorized environment\n",
        "3. Add a wrapper to normalize the observations and rewards. [Check the documentation](https://stable-baselines3.readthedocs.io/en/master/guide/vec_envs.html#vecnormalize)\n",
        "4. Create the A2C Model (don't forget verbose=1 to print the training logs).\n",
        "5. Train it for 1M Timesteps\n",
        "6. Save the model and  VecNormalize statistics when saving the agent\n",
        "7. Evaluate your agent\n",
        "8. Publish your trained model on the Hub 🔥 with `package_to_hub`\n"
      ]
    },
    {
      "cell_type": "markdown",
      "metadata": {
        "id": "sKGbFXZq9ikN"
      },
      "source": [
        "### Solution (optional)"
      ]
    },
    {
      "cell_type": "code",
      "execution_count": null,
      "metadata": {
        "id": "J-cC-Feg9iMm"
      },
      "outputs": [],
      "source": [
        "# 1 - 2\n",
        "env_id = \"PandaPickAndPlace-v3\"\n",
        "env = make_vec_env(env_id, n_envs=4)\n",
        "\n",
        "# 3\n",
        "env = VecNormalize(env, norm_obs=True, norm_reward=True, clip_obs=10.)\n",
        "\n",
        "# 4\n",
        "model = A2C(policy = \"MultiInputPolicy\",\n",
        "            env = env,\n",
        "            verbose=1)\n",
        "# 5\n",
        "model.learn(1_000_000)"
      ]
    },
    {
      "cell_type": "code",
      "execution_count": null,
      "metadata": {
        "id": "-UnlKLmpg80p"
      },
      "outputs": [],
      "source": [
        "# 6\n",
        "model_name = \"a2c-PandaPickAndPlace-v3\";\n",
        "model.save(model_name)\n",
        "env.save(\"vec_normalize.pkl\")\n",
        "\n",
        "# 7\n",
        "from stable_baselines3.common.vec_env import DummyVecEnv, VecNormalize\n",
        "\n",
        "# Load the saved statistics\n",
        "eval_env = DummyVecEnv([lambda: gym.make(\"PandaPickAndPlace-v3\")])\n",
        "eval_env = VecNormalize.load(\"vec_normalize.pkl\", eval_env)\n",
        "\n",
        "#  do not update them at test time\n",
        "eval_env.training = False\n",
        "# reward normalization is not needed at test time\n",
        "eval_env.norm_reward = False\n",
        "\n",
        "# Load the agent\n",
        "model = A2C.load(model_name)\n",
        "\n",
        "mean_reward, std_reward = evaluate_policy(model, eval_env)\n",
        "\n",
        "print(f\"Mean reward = {mean_reward:.2f} +/- {std_reward:.2f}\")\n",
        "\n",
        "# 8\n",
        "package_to_hub(\n",
        "    model=model,\n",
        "    model_name=f\"a2c-{env_id}\",\n",
        "    model_architecture=\"A2C\",\n",
        "    env_id=env_id,\n",
        "    eval_env=eval_env,\n",
        "    repo_id=f\"ThomasSimonini/a2c-{env_id}\", # TODO: Change the username\n",
        "    commit_message=\"Initial commit\",\n",
        ")"
      ]
    },
    {
      "cell_type": "markdown",
      "metadata": {
        "id": "usatLaZ8dM4P"
      },
      "source": [
        "See you on Unit 7! 🔥\n",
        "## Keep learning, stay awesome 🤗"
      ]
    }
  ],
  "metadata": {
    "accelerator": "GPU",
    "colab": {
      "collapsed_sections": [
        "tF42HvI7-gs5"
      ],
      "include_colab_link": true,
      "private_outputs": true,
      "provenance": []
    },
    "gpuClass": "standard",
    "kernelspec": {
      "display_name": "Python 3",
      "name": "python3"
    },
    "language_info": {
      "codemirror_mode": {
        "name": "ipython",
        "version": 3
      },
      "file_extension": ".py",
      "mimetype": "text/x-python",
      "name": "python",
      "nbconvert_exporter": "python",
      "pygments_lexer": "ipython3",
      "version": "3.11.13"
    }
  },
  "nbformat": 4,
  "nbformat_minor": 0
}
